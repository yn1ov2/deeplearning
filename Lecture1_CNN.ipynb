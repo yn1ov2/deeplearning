{
  "nbformat": 4,
  "nbformat_minor": 0,
  "metadata": {
    "colab": {
      "name": "Lecture1_CNN.ipynb",
      "provenance": [],
      "include_colab_link": true
    },
    "kernelspec": {
      "name": "python3",
      "display_name": "Python 3"
    },
    "accelerator": "GPU"
  },
  "cells": [
    {
      "cell_type": "markdown",
      "metadata": {
        "id": "view-in-github",
        "colab_type": "text"
      },
      "source": [
        "<a href=\"https://colab.research.google.com/github/yn1ov2/deeplearning/blob/main/Lecture1_CNN.ipynb\" target=\"_parent\"><img src=\"https://colab.research.google.com/assets/colab-badge.svg\" alt=\"Open In Colab\"/></a>"
      ]
    },
    {
      "cell_type": "markdown",
      "metadata": {
        "id": "UDCIqpTnJeqZ"
      },
      "source": [
        "# Lecture 1. CNN"
      ]
    },
    {
      "cell_type": "markdown",
      "metadata": {
        "id": "rTaaZF3HJs40"
      },
      "source": [
        "# 1. 라이브러리 불러오기"
      ]
    },
    {
      "cell_type": "code",
      "metadata": {
        "id": "vIIvdH4_JbR2"
      },
      "source": [
        "import numpy as np\r\n",
        "import os, matplotlib\r\n",
        "from matplotlib import pyplot as plt\r\n",
        "\r\n",
        "### Tensorflow 2.0 ###\r\n",
        "import tensorflow as tf\r\n",
        "from tensorflow import keras\r\n",
        "from tensorflow.keras.models import Sequential, Model\r\n",
        "from tensorflow.keras import Input\r\n",
        "from tensorflow.keras import layers\r\n",
        "from tensorflow.keras import models\r\n",
        "from tensorflow.keras.preprocessing import image\r\n",
        "from tensorflow.keras.preprocessing.image import ImageDataGenerator\r\n",
        "from tensorflow.keras import losses\r\n",
        "from tensorflow.keras import optimizers\r\n",
        "from tensorflow.keras import metrics\r\n",
        "from tensorflow.keras import regularizers\r\n",
        "from tensorflow.keras import utils"
      ],
      "execution_count": null,
      "outputs": []
    },
    {
      "cell_type": "markdown",
      "metadata": {
        "id": "oSc3RZmiKDUv"
      },
      "source": [
        "# 2. 데이터 로딩"
      ]
    },
    {
      "cell_type": "code",
      "metadata": {
        "colab": {
          "base_uri": "https://localhost:8080/"
        },
        "id": "H6Z_blzwKB16",
        "outputId": "d07bb258-0a70-4d5a-86ec-ef8badfd203d"
      },
      "source": [
        "(x_train, y_train), (x_test, y_test)=keras.datasets.mnist.load_data(path='minist.npz')\r\n",
        "print(x_train.shape, y_train.shape)"
      ],
      "execution_count": null,
      "outputs": [
        {
          "output_type": "stream",
          "text": [
            "Downloading data from https://storage.googleapis.com/tensorflow/tf-keras-datasets/mnist.npz\n",
            "11493376/11490434 [==============================] - 0s 0us/step\n",
            "(60000, 28, 28) (60000,)\n"
          ],
          "name": "stdout"
        }
      ]
    },
    {
      "cell_type": "code",
      "metadata": {
        "colab": {
          "base_uri": "https://localhost:8080/"
        },
        "id": "0FLSAWYcKIjl",
        "outputId": "3020a702-5281-4727-dd6a-75bc951b0aec"
      },
      "source": [
        "x_train_list = []\r\n",
        "x_test_list = []\r\n",
        "for i, i_ in enumerate(x_train[:1000]):\r\n",
        "    arr = np.zeros(shape=(32, 32))\r\n",
        "    arr[:28,:28] = x_train[i]\r\n",
        "    x_train_list.append(arr)\r\n",
        "for i, i_ in enumerate(x_test[:500]):\r\n",
        "    arr = np.zeros(shape=(32, 32))\r\n",
        "    arr[:28,:28] = x_test[i]\r\n",
        "    x_test_list.append(arr)\r\n",
        "\r\n",
        "x_train1 = np.expand_dims(np.array(x_train_list), axis=-1)\r\n",
        "x_test1 = np.expand_dims(np.array(x_test_list), axis=-1)\r\n",
        "print(x_train1.shape, x_test1.shape)"
      ],
      "execution_count": null,
      "outputs": [
        {
          "output_type": "stream",
          "text": [
            "(1000, 32, 32, 1) (500, 32, 32, 1)\n"
          ],
          "name": "stdout"
        }
      ]
    },
    {
      "cell_type": "code",
      "metadata": {
        "colab": {
          "base_uri": "https://localhost:8080/"
        },
        "id": "Xvzy72PlM64n",
        "outputId": "1e8fe11f-a047-4088-83bf-58d0beb433b2"
      },
      "source": [
        "y_train_list = []\r\n",
        "y_test_list = []\r\n",
        "for i, i_ in enumerate(y_train[:1000]):\r\n",
        "    zero = [0]*10\r\n",
        "    zero[i_] = 1\r\n",
        "    y_train_list.append(zero)\r\n",
        "\r\n",
        "for i, i_ in enumerate(y_test[:500]):\r\n",
        "    zero = [0]*10\r\n",
        "    zero[i_] = 1\r\n",
        "    y_test_list.append(zero)    \r\n",
        "    \r\n",
        "y_train1 = np.array(y_train_list)\r\n",
        "y_test1 = np.array(y_test_list)\r\n",
        "print(y_train1.shape, y_test1.shape)"
      ],
      "execution_count": null,
      "outputs": [
        {
          "output_type": "stream",
          "text": [
            "(1000, 10) (500, 10)\n"
          ],
          "name": "stdout"
        }
      ]
    },
    {
      "cell_type": "code",
      "metadata": {
        "colab": {
          "base_uri": "https://localhost:8080/",
          "height": 228
        },
        "id": "Z_U2eCQPKNp0",
        "outputId": "c36660e0-b732-406b-bca7-e404c65d7f5a"
      },
      "source": [
        "plt.figure(figsize=(10,10))\r\n",
        "for i in range(3):\r\n",
        "    plt.subplot(1,3,i+1)\r\n",
        "    plt.imshow(x_train1[i][...,0], cmap='gray')\r\n",
        "    plt.title('Class = {}'.format(y_train[i]))"
      ],
      "execution_count": null,
      "outputs": [
        {
          "output_type": "display_data",
          "data": {
            "image/png": "[encoded data removed]",
            "text/plain": [
              "<Figure size 720x720 with 3 Axes>"
            ]
          },
          "metadata": {
            "tags": [],
            "needs_background": "light"
          }
        }
      ]
    },
    {
      "cell_type": "markdown",
      "metadata": {
        "id": "bqhgW17uKtdU"
      },
      "source": [
        "# 3. 모델 만들기"
      ]
    },
    {
      "cell_type": "markdown",
      "metadata": {
        "id": "n6UJSQiSK1dr"
      },
      "source": [
        "# **AI 모델을 구성하는 레이어 만들기**\r\n",
        "\r\n",
        "AI 모델은 여러 개의 레이어를 쌓아 올려 만듭니다.  \r\n",
        "가장 대표적인 레이어 구조인 **CONV-BN-ACT-POOL** 구조를 만들어 보겠습니다.\r\n",
        "\r\n",
        "먼저 데이터가 들어가는 첫 번째 레이어를 만들어 봅시다."
      ]
    },
    {
      "cell_type": "code",
      "metadata": {
        "id": "x9IJsyASKTTq"
      },
      "source": [
        "first_layer = Input(shape=(32, 32, 1))"
      ],
      "execution_count": null,
      "outputs": []
    },
    {
      "cell_type": "markdown",
      "metadata": {
        "id": "oQIZ8FEDK51O"
      },
      "source": [
        "그 다음으로 데이터의 특징을 추출할 Convolution 레이어를 연결하겠습니다."
      ]
    },
    {
      "cell_type": "code",
      "metadata": {
        "id": "6tlKcPAgs8Km"
      },
      "source": [
        ""
      ],
      "execution_count": null,
      "outputs": []
    },
    {
      "cell_type": "code",
      "metadata": {
        "id": "9Ft6sLtsK859"
      },
      "source": [
        "second_layer = layers.Conv2D(filters=8, kernel_size=(3, 3), activation=None, padding='same')(first_layer)"
      ],
      "execution_count": null,
      "outputs": []
    },
    {
      "cell_type": "markdown",
      "metadata": {
        "id": "vizq1nu8LGlU"
      },
      "source": [
        "다음으로 레이어 중간에서 정규화를 도와줄 Batch Normalization 레이어를 추가하겠습니다.다음으로 레이어 중간에서 정규화를 도와줄 Batch Normalization 레이어를 추가하겠습니다."
      ]
    },
    {
      "cell_type": "code",
      "metadata": {
        "id": "WUmnPVdhK-oo"
      },
      "source": [
        "third_layer = layers.BatchNormalization()(second_layer)"
      ],
      "execution_count": null,
      "outputs": []
    },
    {
      "cell_type": "markdown",
      "metadata": {
        "id": "LjZprgalLPSn"
      },
      "source": [
        "Batch Normalization 이후 신호를 변환하여 다음 뉴런으로 전달하는 Activation function 레이어를 추가합니다."
      ]
    },
    {
      "cell_type": "code",
      "metadata": {
        "id": "idrmW7DWLMUH"
      },
      "source": [
        "fourth_layer = layers.Activation('relu')(third_layer)"
      ],
      "execution_count": null,
      "outputs": []
    },
    {
      "cell_type": "markdown",
      "metadata": {
        "id": "2yP4a-DALVz7"
      },
      "source": [
        "다음으로 이미지 사이즈를 줄여주는 Pooling 레이어를 연결합니다."
      ]
    },
    {
      "cell_type": "code",
      "metadata": {
        "id": "Ce7ptoGMLRbp"
      },
      "source": [
        "fifth_layer = layers.MaxPool2D(strides=(2, 2))(fourth_layer)"
      ],
      "execution_count": null,
      "outputs": []
    },
    {
      "cell_type": "markdown",
      "metadata": {
        "id": "TOPLGDOmLbl3"
      },
      "source": [
        "그 후 모든 뉴런을 일렬로 늘어세우는 Flatten 레이어를 만듭니다."
      ]
    },
    {
      "cell_type": "code",
      "metadata": {
        "id": "-qshjYfELY00"
      },
      "source": [
        "sixth_layer = layers.Flatten()(fifth_layer)"
      ],
      "execution_count": null,
      "outputs": []
    },
    {
      "cell_type": "markdown",
      "metadata": {
        "id": "nt4puhZMLi75"
      },
      "source": [
        "일렬로 늘어세운 후 이전 계층의 모든 뉴런을 연결해주는 Fully connected(Dense) 레이어를 연결합니다."
      ]
    },
    {
      "cell_type": "code",
      "metadata": {
        "id": "_Au2f0SaLgLw"
      },
      "source": [
        "seventh_layer = layers.Dense(100, activation = 'relu')(sixth_layer)"
      ],
      "execution_count": null,
      "outputs": []
    },
    {
      "cell_type": "markdown",
      "metadata": {
        "id": "0wslnvsGLtXH"
      },
      "source": [
        "Dropout 레이어를 활용해 일부 뉴런들을 무작위로 학습에서 배제하도록 합시다."
      ]
    },
    {
      "cell_type": "code",
      "metadata": {
        "id": "sHlH9exdLnXE"
      },
      "source": [
        "eighth_layer = layers.Dropout(0.25)(seventh_layer)"
      ],
      "execution_count": null,
      "outputs": []
    },
    {
      "cell_type": "markdown",
      "metadata": {
        "id": "iKE18CBDLy3y"
      },
      "source": [
        "마지막으로 최종 결과물을 출력해주는 레이어를 만들어 줍니다."
      ]
    },
    {
      "cell_type": "code",
      "metadata": {
        "id": "9JBcDxmpLpzF"
      },
      "source": [
        "final_layer =  layers.Dense(10, activation='sigmoid')(eighth_layer)"
      ],
      "execution_count": null,
      "outputs": []
    },
    {
      "cell_type": "markdown",
      "metadata": {
        "id": "mzBKkHcLL8u-"
      },
      "source": [
        "지금까지 만든 레이어를 Model 함수에 넣어 연결하면 모델이 완성됩니다."
      ]
    },
    {
      "cell_type": "code",
      "metadata": {
        "colab": {
          "base_uri": "https://localhost:8080/"
        },
        "id": "Ke96nkx5L1_7",
        "outputId": "d301f493-e57b-4388-867e-49477e79a4ab"
      },
      "source": [
        "model = Model(first_layer, final_layer)\r\n",
        "model.summary()"
      ],
      "execution_count": null,
      "outputs": [
        {
          "output_type": "stream",
          "text": [
            "Model: \"model\"\n",
            "_________________________________________________________________\n",
            "Layer (type)                 Output Shape              Param #   \n",
            "=================================================================\n",
            "input_1 (InputLayer)         [(None, 32, 32, 1)]       0         \n",
            "_________________________________________________________________\n",
            "conv2d_1 (Conv2D)            (None, 32, 32, 8)         80        \n",
            "_________________________________________________________________\n",
            "batch_normalization (BatchNo (None, 32, 32, 8)         32        \n",
            "_________________________________________________________________\n",
            "activation (Activation)      (None, 32, 32, 8)         0         \n",
            "_________________________________________________________________\n",
            "max_pooling2d (MaxPooling2D) (None, 16, 16, 8)         0         \n",
            "_________________________________________________________________\n",
            "flatten (Flatten)            (None, 2048)              0         \n",
            "_________________________________________________________________\n",
            "dense_1 (Dense)              (None, 100)               204900    \n",
            "_________________________________________________________________\n",
            "dropout (Dropout)            (None, 100)               0         \n",
            "_________________________________________________________________\n",
            "dense_2 (Dense)              (None, 10)                1010      \n",
            "=================================================================\n",
            "Total params: 206,022\n",
            "Trainable params: 206,006\n",
            "Non-trainable params: 16\n",
            "_________________________________________________________________\n"
          ],
          "name": "stdout"
        }
      ]
    },
    {
      "cell_type": "markdown",
      "metadata": {
        "id": "aYbBVGh7MI2k"
      },
      "source": [
        "# 4. 모델 훈련하기"
      ]
    },
    {
      "cell_type": "markdown",
      "metadata": {
        "id": "2RkQLvYpMlV7"
      },
      "source": [
        "신경망 모델의 손실함수와 옵티마이저, 학습률 등의 파라미터를 지정해줍니다. \r\n",
        "\r\n",
        "성능은 정확도를 평가할 것입니다."
      ]
    },
    {
      "cell_type": "code",
      "metadata": {
        "id": "b9asGMjBL9Un"
      },
      "source": [
        "model.compile(loss=losses.CategoricalCrossentropy(), optimizer=optimizers.Adam(lr=1e-4), metrics=['accuracy'])"
      ],
      "execution_count": null,
      "outputs": []
    },
    {
      "cell_type": "code",
      "metadata": {
        "colab": {
          "base_uri": "https://localhost:8080/"
        },
        "id": "54u7L5V0MW4D",
        "outputId": "7eff42fa-53a9-4ed0-87e3-6e3de67bffde"
      },
      "source": [
        "history = model.fit(x_train1, y_train1, epochs=20, batch_size=32, \r\n",
        "                    validation_data=(x_test1, y_test1), shuffle=True)"
      ],
      "execution_count": null,
      "outputs": [
        {
          "output_type": "stream",
          "text": [
            "Epoch 1/20\n",
            "32/32 [==============================] - 0s 6ms/step - loss: 0.2376 - accuracy: 0.9430 - val_loss: 0.3883 - val_accuracy: 0.8620\n",
            "Epoch 2/20\n",
            "32/32 [==============================] - 0s 8ms/step - loss: 0.2228 - accuracy: 0.9370 - val_loss: 0.3684 - val_accuracy: 0.8700\n",
            "Epoch 3/20\n",
            "32/32 [==============================] - 0s 5ms/step - loss: 0.2118 - accuracy: 0.9460 - val_loss: 0.3630 - val_accuracy: 0.8700\n",
            "Epoch 4/20\n",
            "32/32 [==============================] - 0s 5ms/step - loss: 0.2262 - accuracy: 0.9400 - val_loss: 0.3590 - val_accuracy: 0.8720\n",
            "Epoch 5/20\n",
            "32/32 [==============================] - 0s 4ms/step - loss: 0.1752 - accuracy: 0.9600 - val_loss: 0.3617 - val_accuracy: 0.8700\n",
            "Epoch 6/20\n",
            "32/32 [==============================] - 0s 5ms/step - loss: 0.1830 - accuracy: 0.9520 - val_loss: 0.3521 - val_accuracy: 0.8800\n",
            "Epoch 7/20\n",
            "32/32 [==============================] - 0s 4ms/step - loss: 0.1768 - accuracy: 0.9540 - val_loss: 0.3461 - val_accuracy: 0.8760\n",
            "Epoch 8/20\n",
            "32/32 [==============================] - 0s 5ms/step - loss: 0.1559 - accuracy: 0.9600 - val_loss: 0.3449 - val_accuracy: 0.8740\n",
            "Epoch 9/20\n",
            "32/32 [==============================] - 0s 5ms/step - loss: 0.1516 - accuracy: 0.9550 - val_loss: 0.3427 - val_accuracy: 0.8700\n",
            "Epoch 10/20\n",
            "32/32 [==============================] - 0s 5ms/step - loss: 0.1465 - accuracy: 0.9670 - val_loss: 0.3378 - val_accuracy: 0.8780\n",
            "Epoch 11/20\n",
            "32/32 [==============================] - 0s 5ms/step - loss: 0.1317 - accuracy: 0.9740 - val_loss: 0.3334 - val_accuracy: 0.8760\n",
            "Epoch 12/20\n",
            "32/32 [==============================] - 0s 5ms/step - loss: 0.1294 - accuracy: 0.9710 - val_loss: 0.3262 - val_accuracy: 0.8820\n",
            "Epoch 13/20\n",
            "32/32 [==============================] - 0s 5ms/step - loss: 0.1314 - accuracy: 0.9640 - val_loss: 0.3228 - val_accuracy: 0.8800\n",
            "Epoch 14/20\n",
            "32/32 [==============================] - 0s 4ms/step - loss: 0.1126 - accuracy: 0.9760 - val_loss: 0.3247 - val_accuracy: 0.8900\n",
            "Epoch 15/20\n",
            "32/32 [==============================] - 0s 4ms/step - loss: 0.1165 - accuracy: 0.9750 - val_loss: 0.3222 - val_accuracy: 0.8920\n",
            "Epoch 16/20\n",
            "32/32 [==============================] - 0s 5ms/step - loss: 0.1088 - accuracy: 0.9770 - val_loss: 0.3092 - val_accuracy: 0.8960\n",
            "Epoch 17/20\n",
            "32/32 [==============================] - 0s 5ms/step - loss: 0.0976 - accuracy: 0.9810 - val_loss: 0.3081 - val_accuracy: 0.8940\n",
            "Epoch 18/20\n",
            "32/32 [==============================] - 0s 5ms/step - loss: 0.1041 - accuracy: 0.9740 - val_loss: 0.3091 - val_accuracy: 0.8840\n",
            "Epoch 19/20\n",
            "32/32 [==============================] - 0s 5ms/step - loss: 0.0851 - accuracy: 0.9790 - val_loss: 0.3056 - val_accuracy: 0.8940\n",
            "Epoch 20/20\n",
            "32/32 [==============================] - 0s 5ms/step - loss: 0.0854 - accuracy: 0.9880 - val_loss: 0.3057 - val_accuracy: 0.8960\n"
          ],
          "name": "stdout"
        }
      ]
    },
    {
      "cell_type": "markdown",
      "metadata": {
        "id": "6HsNhn09NhXR"
      },
      "source": [
        "# 5. 결과 확인하기"
      ]
    },
    {
      "cell_type": "code",
      "metadata": {
        "id": "MB1DGNnlNZUV"
      },
      "source": [
        "acc = history.history['accuracy']\r\n",
        "val_acc = history.history['val_accuracy']\r\n",
        "loss = history.history['loss']\r\n",
        "val_loss = history.history['val_loss']"
      ],
      "execution_count": null,
      "outputs": []
    },
    {
      "cell_type": "code",
      "metadata": {
        "id": "9desSnK0NmDx"
      },
      "source": [
        "epochs = range(1,len(acc)+1)"
      ],
      "execution_count": null,
      "outputs": []
    },
    {
      "cell_type": "markdown",
      "metadata": {
        "id": "XZCdmA9zN9z5"
      },
      "source": [
        "정확도와 손실함수 그래프 그리기"
      ]
    },
    {
      "cell_type": "code",
      "metadata": {
        "colab": {
          "base_uri": "https://localhost:8080/",
          "height": 545
        },
        "id": "nksI66aLNo_d",
        "outputId": "89a2a767-d5f9-4ca6-f35c-d3e93e57ab38"
      },
      "source": [
        "plt.plot(epochs, acc, 'b', color='blue', label='Training acc')\r\n",
        "plt.plot(epochs, val_acc, 'b', color='red', label='Validation acc')\r\n",
        "plt.title('Training and validation accuracy', color='w')\r\n",
        "plt.legend()\r\n",
        "\r\n",
        "plt.figure()\r\n",
        "\r\n",
        "plt.plot(epochs, loss, 'b', color='blue', label='Training loss')\r\n",
        "plt.plot(epochs, val_loss, 'b', color='red', label='Validation loss')\r\n",
        "plt.title('Training and validation loss', color='w')\r\n",
        "plt.legend()\r\n",
        "\r\n",
        "plt.show()"
      ],
      "execution_count": null,
      "outputs": [
        {
          "output_type": "display_data",
          "data": {
            "image/png": "[encoded data removed]",
            "text/plain": [
              "<Figure size 432x288 with 1 Axes>"
            ]
          },
          "metadata": {
            "tags": [],
            "needs_background": "light"
          }
        },
        {
          "output_type": "display_data",
          "data": {
            "image/png": "[encoded data removed]",
            "text/plain": [
              "<Figure size 432x288 with 1 Axes>"
            ]
          },
          "metadata": {
            "tags": [],
            "needs_background": "light"
          }
        }
      ]
    },
    {
      "cell_type": "code",
      "metadata": {
        "id": "uFLW5MRmNtcm"
      },
      "source": [
        ""
      ],
      "execution_count": null,
      "outputs": []
    }
  ]
}